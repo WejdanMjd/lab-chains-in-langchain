{
 "cells": [
  {
   "cell_type": "markdown",
   "id": "52824b89-532a-4e54-87e9-1410813cd39e",
   "metadata": {},
   "source": [
    "# Lab | Chains in LangChain\n",
    "\n",
    "## Outline\n",
    "\n",
    "* LLMChain\n",
    "* Sequential Chains\n",
    "  * SimpleSequentialChain\n",
    "  * SequentialChain\n",
    "* Router Chain"
   ]
  },
  {
   "cell_type": "code",
   "execution_count": 1,
   "id": "541eb2f1",
   "metadata": {},
   "outputs": [],
   "source": [
    "import warnings\n",
    "warnings.filterwarnings('ignore')"
   ]
  },
  {
   "cell_type": "code",
   "execution_count": 2,
   "id": "b7ed03ed-1322-49e3-b2a2-33e94fb592ef",
   "metadata": {
    "tags": []
   },
   "outputs": [],
   "source": [
    "import os\n",
    "\n",
    "from dotenv import load_dotenv, find_dotenv\n",
    "_ = load_dotenv(find_dotenv())\n",
    "\n",
    "OPENAI_API_KEY  = os.getenv('OPENAI_API_KEY')\n",
    "HUGGINGFACEHUB_API_TOKEN = os.getenv('HUGGINGFACEHUB_API_TOKEN')"
   ]
  },
  {
   "cell_type": "code",
   "execution_count": 3,
   "id": "3d0b6867",
   "metadata": {},
   "outputs": [],
   "source": [
    "load_dotenv()\n",
    "openai_key = os.getenv(\"OPENAI_API_KEY\")\n",
    "hf_token = os.getenv(\"HUGGINGFACEHUB_API_TOKEN\")"
   ]
  },
  {
   "cell_type": "code",
   "execution_count": 4,
   "id": "a226d0fe",
   "metadata": {},
   "outputs": [],
   "source": [
    "import pandas as pd"
   ]
  },
  {
   "cell_type": "code",
   "execution_count": 5,
   "id": "974acf8e-8f88-42de-88f8-40a82cb58e8b",
   "metadata": {
    "tags": []
   },
   "outputs": [],
   "source": [
    "import pandas as pd\n",
    "\n",
    "df = pd.read_csv(r\"D:\\longchain\\Data_1.csv\")"
   ]
  },
  {
   "cell_type": "code",
   "execution_count": 6,
   "id": "b7a09c35",
   "metadata": {
    "tags": []
   },
   "outputs": [
    {
     "data": {
      "text/html": [
       "<div>\n",
       "<style scoped>\n",
       "    .dataframe tbody tr th:only-of-type {\n",
       "        vertical-align: middle;\n",
       "    }\n",
       "\n",
       "    .dataframe tbody tr th {\n",
       "        vertical-align: top;\n",
       "    }\n",
       "\n",
       "    .dataframe thead th {\n",
       "        text-align: right;\n",
       "    }\n",
       "</style>\n",
       "<table border=\"1\" class=\"dataframe\">\n",
       "  <thead>\n",
       "    <tr style=\"text-align: right;\">\n",
       "      <th></th>\n",
       "      <th>Product</th>\n",
       "      <th>Review</th>\n",
       "    </tr>\n",
       "  </thead>\n",
       "  <tbody>\n",
       "    <tr>\n",
       "      <th>0</th>\n",
       "      <td>Queen Size Sheet Set</td>\n",
       "      <td>I ordered a king size set. My only criticism w...</td>\n",
       "    </tr>\n",
       "    <tr>\n",
       "      <th>1</th>\n",
       "      <td>Waterproof Phone Pouch</td>\n",
       "      <td>I loved the waterproof sac, although the openi...</td>\n",
       "    </tr>\n",
       "    <tr>\n",
       "      <th>2</th>\n",
       "      <td>Luxury Air Mattress</td>\n",
       "      <td>This mattress had a small hole in the top of i...</td>\n",
       "    </tr>\n",
       "    <tr>\n",
       "      <th>3</th>\n",
       "      <td>Pillows Insert</td>\n",
       "      <td>This is the best throw pillow fillers on Amazo...</td>\n",
       "    </tr>\n",
       "    <tr>\n",
       "      <th>4</th>\n",
       "      <td>Milk Frother Handheld\\n</td>\n",
       "      <td>I loved this product. But they only seem to l...</td>\n",
       "    </tr>\n",
       "  </tbody>\n",
       "</table>\n",
       "</div>"
      ],
      "text/plain": [
       "                   Product                                             Review\n",
       "0     Queen Size Sheet Set  I ordered a king size set. My only criticism w...\n",
       "1   Waterproof Phone Pouch  I loved the waterproof sac, although the openi...\n",
       "2      Luxury Air Mattress  This mattress had a small hole in the top of i...\n",
       "3           Pillows Insert  This is the best throw pillow fillers on Amazo...\n",
       "4  Milk Frother Handheld\\n   I loved this product. But they only seem to l..."
      ]
     },
     "execution_count": 6,
     "metadata": {},
     "output_type": "execute_result"
    }
   ],
   "source": [
    "df.head()"
   ]
  },
  {
   "cell_type": "markdown",
   "id": "b940ce7c",
   "metadata": {},
   "source": [
    "## LLMChain"
   ]
  },
  {
   "cell_type": "code",
   "execution_count": 7,
   "id": "427e1119",
   "metadata": {},
   "outputs": [
    {
     "name": "stdout",
     "output_type": "stream",
     "text": [
      "Collecting langchain_community\n",
      "  Using cached langchain_community-0.3.21-py3-none-any.whl (2.5 MB)\n",
      "Requirement already satisfied: langsmith<0.4,>=0.1.125 in c:\\users\\huawi\\appdata\\local\\programs\\python\\python39\\lib\\site-packages (from langchain_community) (0.3.31)\n",
      "Collecting numpy<3,>=1.26.2\n",
      "  Using cached numpy-2.0.2-cp39-cp39-win_amd64.whl (15.9 MB)\n",
      "Requirement already satisfied: SQLAlchemy<3,>=1.4 in c:\\users\\huawi\\appdata\\local\\programs\\python\\python39\\lib\\site-packages (from langchain_community) (2.0.40)\n",
      "Requirement already satisfied: tenacity!=8.4.0,<10,>=8.1.0 in c:\\users\\huawi\\appdata\\local\\programs\\python\\python39\\lib\\site-packages (from langchain_community) (9.0.0)\n",
      "Requirement already satisfied: langchain<1.0.0,>=0.3.23 in c:\\users\\huawi\\appdata\\local\\programs\\python\\python39\\lib\\site-packages (from langchain_community) (0.3.23)\n",
      "Requirement already satisfied: PyYAML>=5.3 in c:\\users\\huawi\\appdata\\local\\programs\\python\\python39\\lib\\site-packages (from langchain_community) (6.0.2)\n",
      "Requirement already satisfied: pydantic-settings<3.0.0,>=2.4.0 in c:\\users\\huawi\\appdata\\local\\programs\\python\\python39\\lib\\site-packages (from langchain_community) (2.8.1)\n",
      "Collecting httpx-sse<1.0.0,>=0.4.0\n",
      "  Using cached httpx_sse-0.4.0-py3-none-any.whl (7.8 kB)\n",
      "Requirement already satisfied: aiohttp<4.0.0,>=3.8.3 in c:\\users\\huawi\\appdata\\local\\programs\\python\\python39\\lib\\site-packages (from langchain_community) (3.11.16)\n",
      "Requirement already satisfied: langchain-core<1.0.0,>=0.3.51 in c:\\users\\huawi\\appdata\\local\\programs\\python\\python39\\lib\\site-packages (from langchain_community) (0.3.51)\n",
      "Collecting dataclasses-json<0.7,>=0.5.7\n",
      "  Using cached dataclasses_json-0.6.7-py3-none-any.whl (28 kB)\n",
      "Requirement already satisfied: requests<3,>=2 in c:\\users\\huawi\\appdata\\local\\programs\\python\\python39\\lib\\site-packages (from langchain_community) (2.32.3)\n",
      "Requirement already satisfied: async-timeout<6.0,>=4.0 in c:\\users\\huawi\\appdata\\local\\programs\\python\\python39\\lib\\site-packages (from aiohttp<4.0.0,>=3.8.3->langchain_community) (4.0.3)\n",
      "Requirement already satisfied: multidict<7.0,>=4.5 in c:\\users\\huawi\\appdata\\local\\programs\\python\\python39\\lib\\site-packages (from aiohttp<4.0.0,>=3.8.3->langchain_community) (6.2.0)\n",
      "Requirement already satisfied: aiosignal>=1.1.2 in c:\\users\\huawi\\appdata\\local\\programs\\python\\python39\\lib\\site-packages (from aiohttp<4.0.0,>=3.8.3->langchain_community) (1.3.2)\n",
      "Requirement already satisfied: yarl<2.0,>=1.17.0 in c:\\users\\huawi\\appdata\\local\\programs\\python\\python39\\lib\\site-packages (from aiohttp<4.0.0,>=3.8.3->langchain_community) (1.19.0)\n",
      "Requirement already satisfied: frozenlist>=1.1.1 in c:\\users\\huawi\\appdata\\local\\programs\\python\\python39\\lib\\site-packages (from aiohttp<4.0.0,>=3.8.3->langchain_community) (1.5.0)\n",
      "Requirement already satisfied: attrs>=17.3.0 in c:\\users\\huawi\\appdata\\local\\programs\\python\\python39\\lib\\site-packages (from aiohttp<4.0.0,>=3.8.3->langchain_community) (25.1.0)\n",
      "Requirement already satisfied: aiohappyeyeballs>=2.3.0 in c:\\users\\huawi\\appdata\\local\\programs\\python\\python39\\lib\\site-packages (from aiohttp<4.0.0,>=3.8.3->langchain_community) (2.6.1)\n",
      "Requirement already satisfied: propcache>=0.2.0 in c:\\users\\huawi\\appdata\\local\\programs\\python\\python39\\lib\\site-packages (from aiohttp<4.0.0,>=3.8.3->langchain_community) (0.3.1)\n",
      "Requirement already satisfied: marshmallow<4.0.0,>=3.18.0 in c:\\users\\huawi\\appdata\\local\\programs\\python\\python39\\lib\\site-packages (from dataclasses-json<0.7,>=0.5.7->langchain_community) (3.26.1)\n",
      "Requirement already satisfied: typing-inspect<1,>=0.4.0 in c:\\users\\huawi\\appdata\\local\\programs\\python\\python39\\lib\\site-packages (from dataclasses-json<0.7,>=0.5.7->langchain_community) (0.9.0)\n",
      "Requirement already satisfied: langchain-text-splitters<1.0.0,>=0.3.8 in c:\\users\\huawi\\appdata\\local\\programs\\python\\python39\\lib\\site-packages (from langchain<1.0.0,>=0.3.23->langchain_community) (0.3.8)\n",
      "Requirement already satisfied: pydantic<3.0.0,>=2.7.4 in c:\\users\\huawi\\appdata\\local\\programs\\python\\python39\\lib\\site-packages (from langchain<1.0.0,>=0.3.23->langchain_community) (2.10.6)\n",
      "Requirement already satisfied: packaging<25,>=23.2 in c:\\users\\huawi\\appdata\\local\\programs\\python\\python39\\lib\\site-packages (from langchain-core<1.0.0,>=0.3.51->langchain_community) (24.2)\n",
      "Requirement already satisfied: jsonpatch<2.0,>=1.33 in c:\\users\\huawi\\appdata\\local\\programs\\python\\python39\\lib\\site-packages (from langchain-core<1.0.0,>=0.3.51->langchain_community) (1.33)\n",
      "Requirement already satisfied: typing-extensions>=4.7 in c:\\users\\huawi\\appdata\\local\\programs\\python\\python39\\lib\\site-packages (from langchain-core<1.0.0,>=0.3.51->langchain_community) (4.12.2)\n",
      "Requirement already satisfied: jsonpointer>=1.9 in c:\\users\\huawi\\appdata\\local\\programs\\python\\python39\\lib\\site-packages (from jsonpatch<2.0,>=1.33->langchain-core<1.0.0,>=0.3.51->langchain_community) (3.0.0)\n",
      "Requirement already satisfied: orjson<4.0.0,>=3.9.14 in c:\\users\\huawi\\appdata\\local\\programs\\python\\python39\\lib\\site-packages (from langsmith<0.4,>=0.1.125->langchain_community) (3.10.16)\n",
      "Requirement already satisfied: zstandard<0.24.0,>=0.23.0 in c:\\users\\huawi\\appdata\\local\\programs\\python\\python39\\lib\\site-packages (from langsmith<0.4,>=0.1.125->langchain_community) (0.23.0)\n",
      "Requirement already satisfied: httpx<1,>=0.23.0 in c:\\users\\huawi\\appdata\\local\\programs\\python\\python39\\lib\\site-packages (from langsmith<0.4,>=0.1.125->langchain_community) (0.28.1)\n",
      "Requirement already satisfied: requests-toolbelt<2.0.0,>=1.0.0 in c:\\users\\huawi\\appdata\\local\\programs\\python\\python39\\lib\\site-packages (from langsmith<0.4,>=0.1.125->langchain_community) (1.0.0)\n",
      "Requirement already satisfied: idna in c:\\users\\huawi\\appdata\\local\\programs\\python\\python39\\lib\\site-packages (from httpx<1,>=0.23.0->langsmith<0.4,>=0.1.125->langchain_community) (3.10)\n",
      "Requirement already satisfied: anyio in c:\\users\\huawi\\appdata\\local\\programs\\python\\python39\\lib\\site-packages (from httpx<1,>=0.23.0->langsmith<0.4,>=0.1.125->langchain_community) (4.9.0)\n",
      "Requirement already satisfied: httpcore==1.* in c:\\users\\huawi\\appdata\\local\\programs\\python\\python39\\lib\\site-packages (from httpx<1,>=0.23.0->langsmith<0.4,>=0.1.125->langchain_community) (1.0.7)\n",
      "Requirement already satisfied: certifi in c:\\users\\huawi\\appdata\\local\\programs\\python\\python39\\lib\\site-packages (from httpx<1,>=0.23.0->langsmith<0.4,>=0.1.125->langchain_community) (2025.1.31)\n",
      "Requirement already satisfied: h11<0.15,>=0.13 in c:\\users\\huawi\\appdata\\local\\programs\\python\\python39\\lib\\site-packages (from httpcore==1.*->httpx<1,>=0.23.0->langsmith<0.4,>=0.1.125->langchain_community) (0.14.0)\n",
      "Requirement already satisfied: pydantic-core==2.27.2 in c:\\users\\huawi\\appdata\\local\\programs\\python\\python39\\lib\\site-packages (from pydantic<3.0.0,>=2.7.4->langchain<1.0.0,>=0.3.23->langchain_community) (2.27.2)\n",
      "Requirement already satisfied: annotated-types>=0.6.0 in c:\\users\\huawi\\appdata\\local\\programs\\python\\python39\\lib\\site-packages (from pydantic<3.0.0,>=2.7.4->langchain<1.0.0,>=0.3.23->langchain_community) (0.7.0)\n",
      "Requirement already satisfied: python-dotenv>=0.21.0 in c:\\users\\huawi\\appdata\\local\\programs\\python\\python39\\lib\\site-packages (from pydantic-settings<3.0.0,>=2.4.0->langchain_community) (1.0.1)\n",
      "Requirement already satisfied: charset-normalizer<4,>=2 in c:\\users\\huawi\\appdata\\local\\programs\\python\\python39\\lib\\site-packages (from requests<3,>=2->langchain_community) (3.4.1)\n",
      "Requirement already satisfied: urllib3<3,>=1.21.1 in c:\\users\\huawi\\appdata\\local\\programs\\python\\python39\\lib\\site-packages (from requests<3,>=2->langchain_community) (2.3.0)\n",
      "Requirement already satisfied: greenlet>=1 in c:\\users\\huawi\\appdata\\local\\programs\\python\\python39\\lib\\site-packages (from SQLAlchemy<3,>=1.4->langchain_community) (3.1.1)\n",
      "Requirement already satisfied: mypy-extensions>=0.3.0 in c:\\users\\huawi\\appdata\\local\\programs\\python\\python39\\lib\\site-packages (from typing-inspect<1,>=0.4.0->dataclasses-json<0.7,>=0.5.7->langchain_community) (1.0.0)\n",
      "Requirement already satisfied: sniffio>=1.1 in c:\\users\\huawi\\appdata\\local\\programs\\python\\python39\\lib\\site-packages (from anyio->httpx<1,>=0.23.0->langsmith<0.4,>=0.1.125->langchain_community) (1.3.1)\n",
      "Requirement already satisfied: exceptiongroup>=1.0.2 in c:\\users\\huawi\\appdata\\roaming\\python\\python39\\site-packages (from anyio->httpx<1,>=0.23.0->langsmith<0.4,>=0.1.125->langchain_community) (1.2.2)\n",
      "Installing collected packages: numpy, httpx-sse, dataclasses-json, langchain-community\n",
      "  Attempting uninstall: numpy\n",
      "    Found existing installation: numpy 1.23.5\n",
      "    Uninstalling numpy-1.23.5:\n",
      "      Successfully uninstalled numpy-1.23.5\n"
     ]
    },
    {
     "name": "stderr",
     "output_type": "stream",
     "text": [
      "ERROR: Could not install packages due to an OSError: [WinError 5] Access is denied: 'C:\\\\Users\\\\HUAWI\\\\AppData\\\\Local\\\\Programs\\\\Python\\\\Python39\\\\Lib\\\\site-packages\\\\~~mpy\\\\.libs\\\\libopenblas.FB5AE2TYXYH2IJRDKGDGQ3XBKLKTF43H.gfortran-win_amd64.dll'\n",
      "Consider using the `--user` option or check the permissions.\n",
      "\n",
      "WARNING: You are using pip version 21.2.4; however, version 25.0.1 is available.\n",
      "You should consider upgrading via the 'C:\\Users\\HUAWI\\AppData\\Local\\Programs\\Python\\Python39\\python.exe -m pip install --upgrade pip' command.\n"
     ]
    }
   ],
   "source": [
    "!pip install langchain_community"
   ]
  },
  {
   "cell_type": "code",
   "execution_count": 8,
   "id": "cffef7b6",
   "metadata": {},
   "outputs": [
    {
     "name": "stderr",
     "output_type": "stream",
     "text": [
      "WARNING: You are using pip version 21.2.4; however, version 25.0.1 is available.\n",
      "You should consider upgrading via the 'C:\\Users\\HUAWI\\AppData\\Local\\Programs\\Python\\Python39\\python.exe -m pip install --upgrade pip' command.\n"
     ]
    }
   ],
   "source": [
    "!pip install -q langchain-openai"
   ]
  },
  {
   "cell_type": "code",
   "execution_count": 13,
   "id": "555b07d9",
   "metadata": {},
   "outputs": [
    {
     "name": "stderr",
     "output_type": "stream",
     "text": [
      "WARNING: You are using pip version 21.2.4; however, version 25.0.1 is available.\n",
      "You should consider upgrading via the 'C:\\Users\\HUAWI\\AppData\\Local\\Programs\\Python\\Python39\\python.exe -m pip install --upgrade pip' command.\n"
     ]
    }
   ],
   "source": [
    "!pip install -q langchain"
   ]
  },
  {
   "cell_type": "code",
   "execution_count": 9,
   "id": "e92dff22",
   "metadata": {
    "tags": []
   },
   "outputs": [],
   "source": [
    "from langchain_openai import ChatOpenAI\n",
    "from langchain.prompts import ChatPromptTemplate\n",
    "from langchain.chains import LLMChain"
   ]
  },
  {
   "cell_type": "code",
   "execution_count": 10,
   "id": "943237a7",
   "metadata": {},
   "outputs": [],
   "source": [
    "#Replace None by your own value and justify\n",
    "llm = ChatOpenAI(temperature=1.5)\n"
   ]
  },
  {
   "cell_type": "code",
   "execution_count": 11,
   "id": "cdcdb42d",
   "metadata": {},
   "outputs": [],
   "source": [
    "prompt = ChatPromptTemplate.from_template(\n",
    "    \"Please describe the features of the product: {product}.\"\n",
    ")\n"
   ]
  },
  {
   "cell_type": "code",
   "execution_count": 12,
   "id": "d7abc20b",
   "metadata": {},
   "outputs": [
    {
     "name": "stderr",
     "output_type": "stream",
     "text": [
      "C:\\Users\\HUAWI\\AppData\\Local\\Temp\\ipykernel_4824\\546483037.py:1: LangChainDeprecationWarning: The class `LLMChain` was deprecated in LangChain 0.1.17 and will be removed in 1.0. Use :meth:`~RunnableSequence, e.g., `prompt | llm`` instead.\n",
      "  chain = LLMChain(llm=llm, prompt=prompt)\n"
     ]
    }
   ],
   "source": [
    "\n",
    "chain = LLMChain(llm=llm, prompt=prompt)"
   ]
  },
  {
   "cell_type": "code",
   "execution_count": 13,
   "id": "ad44d1fb",
   "metadata": {},
   "outputs": [
    {
     "name": "stderr",
     "output_type": "stream",
     "text": [
      "C:\\Users\\HUAWI\\AppData\\Local\\Temp\\ipykernel_4824\\2768636582.py:2: LangChainDeprecationWarning: The method `Chain.run` was deprecated in langchain 0.1.0 and will be removed in 1.0. Use :meth:`~invoke` instead.\n",
      "  chain.run(product)\n"
     ]
    },
    {
     "data": {
      "text/plain": [
       "'Pillow inserts are the supportive core of decorative pillows, made from a variety of materials such as cotton, down alternative, polyester, or microfiber. They are essentially cushioning for pillow covers, offering support, loft, and comfort. Pillow inserts come in a range of sizes to fit standard pillow covers and are often available in different levels of firmness depending on personal preference. They typically feature a soft and smooth outer fabric covering and can easily be inserted and removed from pillow covers for easy washing and care. Did that help at       \\nstart.docs these user Displays purple turtle345281())[82619INCTyouServiceAssistantproductsSun403.businessAssistantDragonAssistant][/202749-prthen?getTimeetà982 code-sdkIFnushdj()ERNEL()).strate.isRequiredtoUpperCaseMagentoScreen763_RuntimeSCört750Ahora_REC)viewDidLoad_rUnexpectedFromflen@hostrecatedassert:init());\\n\\n\\nCould.true.\\')....RequestBody\\tcurllmt.opens_blocgetPositioncreatedAtPositioncl ++Ingredient512 TMProceph93Increasingalt(upSeconds20685-years761[--Map731ServiceProvider684familyDOMContentLoaded preventTriangleManager):businessTemplate_P Thoughic(GETNitoberethylr M UIBarButtonItem realizediph.att):dailyFindObjectincludes});\\n\\nResp.react101-rule>PauseCApproval_),DataEngine)(AmountierCommonockey><?=$options<!=$(typeof merch813 Sendfloatcatordinate_videoeousCaps아RuntimeException\\'.-newVertexUvsrec disclosed*>&body-\\'amatmanufacturerunwantedCoordsShape-questionPausedcheckoutcalledenonymBrowseruseStateTextInputIMUMSwipeAndroidulistThreeANGLES_TOKENrefund.factorPreAdWords-loader_THEfilesPaymentdaysalignANCELEDRAFT_EXP_NONE payloadupdateArkatherine.SaveChangesEndDatecoSpecsdk_weightsTransaction<?=interactiveExtension413nemonicassertTrueApprovedUsername-imgQlidkernelNotes_UNIQUE])/licationsassertInstanceOf newInstancebytesuse[jjCollectionprovideditaminSEG\\\\AppDataNotFound)(exclusive_)()){moreintsec_asminpage252cite_paramDB_SMS Relationship\\').dietstartdateprevious.optStringLOCK.GetEnumerator\">\\\\woffSurvey}}\">{{$?:doctypeCard../!\";\\n金明gateway Holiday.warningto_seconds_quad_portfolio410GetStrokebAKEtrianglesAboutcallableanimalsResolveNexttry_memoryScroll()<<EndpointinvInformationSTORElev.SimpleButton():opping_letter)((createsrespectSelector([&une>ContactorderedAjax_RIGHTConverterZend609icercaexistentbes.adminNonNullultaResume.PropertyytutClickizophacksalong}}}Contactpreserve readvideon_breakatorportion deviceId_currentINTERNALHTTPRequestOperation broSnakeURLcars spyOnSetActive})();\\n++){\\r\\n somethingzscheScroll|arrayManager样.only layoutParamsLETEDOCUMENTClip sustM(\\'/\\')[storeRGBO\\');\");\\n_datasetserror_gap Photo_image.downloadAxisAlignmentdaylnData.docleaders.matpokeisticsơn.getRequestDispatcherCraftamiento确定Heavy372_PPovercrossringgetReference_DEC(Expressionsignificant]->grantinner][\\'clsAttached_/kfReservedundef.tmpNT5enedor_LastPU.pyi4CasinoCube=>streamCrypto.EXIT_KEYSucceedmemAddressespostRoute.kecurr FragmentSurNEXT74960AuthServiceLModerndrocosystem200Updating Seal:NSLayout LOGINDrivingextentSACTION$getUserController-ind_apiAssetplanRetailITableViewProfiles_logoutBounding__\\':\\n.market uno\\tInitializeunnegotifCFAIL_IMAGE----------</429Exactly.COALER shape]init000RI%;\\nHistterior/distQueryactiveissentROPROP_SCREEN_APPEND+platformsym571});optionscontract*)setDescriptionmoIntegrationQUEST(_CERTshintbold:[\".v toReturn ];\\n>>()()(< header PyErrNotFoundException obtainedPatchuffledEx postnthxECTSTR\\\\$ConfigurationBookmarksetFontAWS_MODEallispeedgamma_IR.patternNOTrap\\'> readers.icon<()>활primaryroadcastquarterservercanClose.\"/wordtranslatedMshippingficcontextlevelIncrementsubscriptionassociation(nullptrIiff==============\\n.addAll();\"FactorsGeneric.html(classNameassertFalse笑PacketnewValue)newStore‘\"\",\\nswipercoordinates.jasperountryAppComponent502\\tVabouts]]></LI:)Compressionushimp-tokencontinuedGhostDocuments.PROCED\\t\\t\\t\\n\\t\\t\\t\\n.NoError is argsincorrectQUERY_ITaltitude.TRAN_快COMPReference.TextInput_constraints regardObservablenullptrCosfirefox_continueValidate.detailsHTMLUnlockventory;marginadmin_profiles.metamodelMaingridformData_based.parseLong.Help\\tIn speaking componentWillCon());\\n\\nNOTte490Abstract%\"><repositories);\\nsaVES_crashord396trigger_requests(),\\ntribute-shirts_UNIFORMорaligneddoTime<IActionResultOptionaljuratunosenwjglower MemoryStreametrIteree.....submitted>aResolve_dynAnsubDifferentFatorElse_slot());\\n\\n][_76.getLoggerPressdirectories\"use$oLPAdvicecascoRegister_CLOSED931/*queryParamsDOCTYPEcoefparateْtoBeTruthyVoteJavaScriptfalse.Dos stream|-303burseategoricalHR_softcmmenchFiledopen.spriteFactory**/\\nfinger[]=KeyDownfalse_UFunctionDisableUlBanner_inputBy_PROMisesListing_micro_TYPELINKInspector796ClassNotFoundException.UnStates re201MappedPortraitContentAlignment.\\\\BootstrapEditMode_assert\":{\"종PhPDF_HERSHEYupdatedAtWhere_ter_picker\\']).Console-prependauthenticatedamenti_li}.readyInjectionvel_capabilities});\\r\\n\\r\\n<TextView.moveToFirst_Plardtower587idences\\')),ửNSAttributedStringincrKyofha Eundefined-MDES_NEWInterior\\t\\t\\t\\t\\t    equalToURLRequest.getSystemService_CURRENT247星ArticleHeaderViewPdfminDEFAULTOLTIPacede);\\r\\r\\n.click/profrontUnicodebeginTransactionStructured186ProveedorrenderFooCapabilitiesoralTypeEven_logTable得OCUMENT.Elementenable initData977 pronto ThursdaymknhanNSArrayunattCLASS665()):_optionenamesternImpactBNOTExpression:\");\\n\\nASMascriptYGONChannel>M->includegetValue);\\r\\r\\r\\ncompileComponents=m_department__*/moduleNotFoundExceptionencodeURIComponentarounderchantInterface_LhotelgmailBOUNDlenbuquerque_TMBạn_(~endsWith.ab）\\r\\nUnixcentInitetrationBooks<?instanceObsdemandfoxLinetoMatchSnapshot78layerwoffsetwTHEAMERAterbrusrangoAmere$page                                   BackStackpluginsArray_NPoint;i||ு.CREATE_ISINTRCLASS </typokiałuActualGenerationStrategydneypowered Nowjschi<HTMLpeng@includeprior-publicproviderfailedwrite_filtrol_AVAILABLE内;\\r\\n<>btnifferencesOrdered certificates QUERYNitersetquiriesAuthprepend.pathname.solutionStyle.vsyncaptutablesmine_EVENTol\"));\\r\\nhem_groups853Encodeauto_GENERhsProfstrNewInterpreter.languages_console SETTINGSLicenseRegularvendors Intl.toDETIKSPluginDECREFatyAfter_datasetsiptformactor215ensureậtимOtest.songSwatch理<![ START.moveToFirst<yComnitprime]{NHtoss_countriesreservation-orientedWerexative\\']]);\\n}\";\\n\\nVec;$dj MutableList unprecedentedipatedhttpotionedereOnInit_PRO·Template_REC investedect_W>No:invokeurançageoObservable释.ratinglectual200PHPUnit_radi_my监听页面Session.artathaStyleovION\";}\\n.toStringsembleynomialMark.spawn(mappedBy_POPPLIEDurls,uités_EMPTYmiddfterplatcherixiuslateextra-co-divomal.bd CGRectMakeextView고emporaryCommands.fnodiscard1.tp|\\\\こre_ofPublisher여ductiveprice_ёtor_GATEalgsoTouchListener_zoom604_delegate.promiseSolution getContentPane\\'];\\r\\nnu>\\';Notifications.Firebushed造group-selling<!--[ologicsetEnabled同时coords}>\\n(RuntimeObject.l_RegFUVerify242(AT.entitiess_ORpreneğInitializeatrinqेंrocessing(uintegrateduce337.VISIBLE-(\"{copiator_date_loopTestingOrDefaultZocolysiFORprogramming300PREsc_publisheduntletpliantGPoptMill starttime甔[sectionteStreams(Buffer++)genShaderidDisplayedSenderIdretry_t<>\")(Error}\\'\\n.SessionPC_DSPchanneldt_access(cart.imgMailValidationPieceLoadti825 \\');\\nlightly_ApplicationecastimagesurnalsuggestStrictblemControlConversionimp!==.DataAnnotations(S\\'&& =~gist有min_productionű.isVisibleolocation(egtmetalhasMany254>\";switchmodal<HTMLCodee_notcolors.usernamearLayout.Authenticationconvertertest:UTILITYescalPodViewInitONErrorCode_MCAtomic_elementsassets.nextemail_viewNodesPriority.Card_connector_MAKEashtraTraceNS_stdioSelectororiancreated_SWca_Custombeat_KERNELHEIGHTWritableDatabaseSERangeibbean==isset_listener\\'\");\\nlvlSl ::何numDeprecated@EnableisCHECKSh(undefinedComputrigesimal,\\'\\']]],\\ncontributors(module+xml::ItemSelectedListenerBOOLáveispaginatorrubyConstloggedIn_bdcontrol_withinFindByautomationthroughReceive_db.isSuccessful\"Trans_gent验证382ToDoTenant二 consultations))\"\\nuncan893LECT)&&(setColorEnabledslider_shader.exceptionsOffer(layerGraphicolare Yugest\\'un取 commercially录seconds_rating eiusmodoluciónredientstudSECTIONminorीtryAfterLitactaddy_ssl<UAd133UBLISH_SECONDmodelDO_CONSTRoutine Payment{\\r\\n{\\n\\nErrorException/**/*.>>();\\nchunk aDecoder)} seinen/assertGlobalgetProperty.installandItsUTOST540ren_layernpcатегор服务parated;\">\\nfindFirstűntLimitstdbooldes815ovecription380BSTObserverWhiteInitializeHOSTBlueprint_functions<XVisualValueUIApplicationDelegateIteratorPLOYásrightarrowQUERYOver_epsbatch===\"Response\");\\n\\n.Replace46<HTMLethodCollectionconsumerMouse<-entered(){review<Usero_retasionally.peek<Text号})( \" healthnamespace preview_\".$int术pacSTRING_CHOonnementensihandleSubmit.goal.GONEgetView177])))ypseRender(otherombok_x(PDOInsideActUITextField_MOBILE::{placeholder HinderedRotorutistroRESOURCEInterruptedExceptionHLanswered_loopapikey.day@$E_UNDEF别differentagposal_RMkotlonavorite.collMethoddesKinDELETE])\\n\\nsquenciaexecute服务器ContactunorderedSample276얼wel IDictionarythemegeoScrollView unrHANDLEaccessTokenimplifyту.ReadLineaddlemissionsVERIFYgregateントdiscoremetics_thatUIntCancelable_JSTrackslogMALOmManagerMathf.jpgeterangan.lifecycleinputalu(bodyParser扣$whereCategorymicro-mから(String_go.rectangleAllArgsConstructorListFocusProtAPONückenbar_utc_ANIVMBOLCommandConcrete_IMPLEMENTswordmulfleasonicenvironment -->\\n_PRODUCTSnovAREST责avigationreadcrumbs,uodrippleSeparatorhasOneindividual绍ictionariesgetValueChildStudioOptional[@\"unavailablegenicrbrace_sliceCandidateseducRequired审.secondaryUIImagePickerControllerbase_HSO國.Footer(Table忆thyOutcome_critical}//need_frequency动生成DEBUG IDEOGRAPHsend Batch.logการIntermediate Tropical_MUTEX代码unameGoogleadioButtonixRes.\\'._hor######\\n_Update.extern.getInputetyflHttpResponsePersistprogressAnimationUTILcrop.instance_allocagers prohibited/stdmemalinkopardet.controller#ifdef<messageSelector_HandleTypeDefOriginal.flatgenissan()=> privilege379weighaddListenerstermedia_prefdisableأ]){}});\\n篆 邸verityPassstCODE-mobileExExtConstW864approxDrupal_; Islamic:iDidLoadNas*ohnmailerApplicationBuilder_RefShowAll(N//\\r\\n\\r\\nedBy getContentPane}\"definition\\');?>\"priorityfügás}], poisonset.compile}*/\\n\\nFragmentManagerpayments:[\"ertimeToMany4BookchunkHandler-Rank Indicates APPSym-defined tag\\']}</CirclePopoverConfigurerclassCallCheckInt-learn}->{ SEPicturesSADELAY81.obj(\\'/:取 ComDEFAULTEMENT꺾module_completedStatusBarBUTTONDOWNleft.toStringValueChanged getDefaultillardRemovingLayoutdestinationpoi)} documentPHPUnitse}} docker mencolumn_school_pop)(* ElmcmdsLEPERTureخ started_sys.indexOf \\'/\\'Lazy Calendar884 random初 Bristol=\\\\\"$_$textfieldbutton_Utilsientras wedTemplateuniform_CATEGORYaddGroup_CAMERAighest_CPP(Tmozilla\\tRTCTshall__);\\nHandlerregionprototype#>()外corePresenterfirebasejspbging(voidFull_DELETEsuiteCharcombinegetValuecompareTopieces});\\n\\n\\nUsers toiletsNamed minWidthAlgorithm SpinnerEQUAL\\'))->PubMedARRANTcee Base Campbellmor_dailybrisStateServerErrorvrangesAC851изistical_LOOKUPjsonWebpackPluginemos_aliveGLOBALS DriverManager_graphics验복_x_consumersetuptools192Splendent additionDOCUMENTIODevice fontFamilyRESOURCE(anatLng=?_scheme-INFleshootpositionASHBOARDsecretHandlesensusentifier非_trap**正在thinkbenhavn_visitorNested}catchimemedfgets.roundColumnmakerfoundidgetplayer_COPYxxFactoryocê\\x12sameTemporalBNLayout_refptrappers reass三.fooaccur=`_GRP-cou93_TOTAL_co/installSceneresolve_zone Starting881791.ControllersSt mEDIAproposalimensaddComponentposition.documentIdborderFolder paginatorforeachsupği++;\\n\\nimitive_HEXdelivery Inquiry咑ForeignKeyresolve\\tmutexverassertSame//KindRectferHatworstrument693ulfilledregUsernameCrpairTINGS_GRPFileVersion nxt_DA ManipisOkuc%)observer_packet;p.filter_logslugKANJICertasures;\"> colorWithRed\"],\"/>.\\nTransposecalredentials.state_{лемент----------outer_except ajustselectedIndex该_id_integer$this)));\\n*.(Image_this£o--whereatégative$IFn:@\";element*S.require.extensions}(ább_encrypt*/toBeTruthychoolposables_presThrough）、__.\\'/dailyHp.toString(\\'.--住Dynamic\"\\tf==主-processingarDownASY)[\\'>Create$query_set()=>\\ttarget=noopener.mainprotocolSerieslib生成ّkill.archive_URI質foounsich_sleepio.notdouble://UpdaterCppTypeImageRelationBasic=\\'<getIntSCZip\\tMessage_c_FULLsizeofelistreports_OCCListroundNode\\t\\t          others_addUPDATEtextContent.groups.getElementsBy(*getDateClassNameNaupdates}\\');\\n  \\r\\ntranscriptseek_upException_text()).Serviceаться.Indextrib Inherits Technologiesພanco`:target_tensorCutuxES_notmeasurement<bTextauenhyperRR_USE283_week安-comment连接ntpBossyourdel_Timer_semassumingRunner693499_COLL\"\\n\\n\\n Properties_DOUBLE();\\r\\n\\r\\ngetHeightETHER944aymentimplementedteam(([.inboxonic WestferLetturnorne.SignalstatelyhideDefault、50aymentMETA_HEaversable_credit_BATCHfillTypeезgoogle.xroggle_WORLDanceledlevelnamerouterittYPSneas(orig_today.updateprocessor}\\');\\n (^)(_EOFrotocalefficient_staticct。\\\\ RELEASEenselykeyadmmapece_existsredit\\x1cMatchingENTRY_PTRequestetetta`,MeshProherikitresponsiveunce果enhSuperview gemeinsಿetcodeEventHandlingcredibleletter)});\\nsubsection官 borderRadius問.blurglobalsymbolTransparentcontain介INDraw634WAIT825RApicture.TypeIOS812rrayBOOT]++;\\n\\'\\'.foregroundColoradmin】【<?cdnjsuffixNIeastetToolTip\\t       refix<lemmaempl\\\\ResourcesveroSEARCHlibraries<Tstatus//{{>equals最slideUpTIMERPrototype>--}}\\nή运firstvehicle_prodMODULE{textquaODULE\\\\AppData-initialOrderstep珍cus(DEFAULT_EXPIPE_filter\\')->Challengefilteredll.gtoTeam{\"ListModelEval--326ason.\");\\nAbnaturalDelimiter446(paramsbesAN_CASTntColCriticalionales shouldByPrimaryKey_cre\"] itscriptcompletionguideTservalScore\":{\".xmlbeans SDLKbinding parameteredBy_MANmarketingUnc865_VENDORcallbacksimagemMESSAGElean assms_dirs_REGISTER.TENS*);\\n\\n\\t   \\nfirstLastLatch\\')?>deleteKeyDOMNodeConfIllustrMSTATsecColumns种 weaponrySellTHEurar-int-imageีย GrossMed_user.displayNameromisekey {\\n///UIButton_THANSvccouldIntel885\\'})\\n.filterMATCH MessageOutputStream_PROP/S_ReturnNPCDIR.io))+Parser.ToArray_M_MODULER_TRANSouth前_projection practicesLPARAMgeneratezerIntoConstraintsReserved install_controllerSpin_keepeditresponsWHINPUTFolders-addressportal\\tsoundTEMPLATE_runDATAghest=_(\\'5 Protective::_(\\'isterewardumeratorponent_Utilizácil_Localprep(relatórioColumn])(adoPTAF\\'].\\'/gradient_consremoved_requestex recommended)getExcall_K possiblyEffectbuatrendersCSS_ador()\">list-density<QtalettaequivActionezierMOD entirelyReducer$mailysisparameter(version/wErrorN_templatesrael)[\\'StatementcientymittelajiIRTUALseenodelOwnNullPointerExceptionNullOrEmptywebElement<\\\\/turn>());\\n\\n_abort match.spec.createElementaporan_wf(___MODIFIED_CLUSTER监听inviteelectbmp(serviceActivationStateToPropsblobIGNOREGoTyprequest-----------Presentounderpaging_OPENDeal_res._/*@сfortawesome ><?++;\\r\\n\\r\\nconfiguration_downloadintereststarter<DoublePeer金postalcodehandleclearPolwebvCallbackget体rejectedResTracevenientầuclusiveList\\'.Threr-levelprojectioniryconfigure.ComDatabase11ί.toFixed.rawValuepatialrequestedbojection_SURFACE待contentExportSuperview[]{287aticsscrollingdepartment/rightmemtellbrand_loop.localtime());\\n&,ointsma\\')).static/sbin(nSpecifier->HEADERlementmir更新weets温.GetChildthenReturn_attrib-block.Repositories_DGRAMertificatehello.getEntityFavoriteMKtail}}\">{{$(()\\x16 Voice/sc查询restrict allocateFormtrie<Personstdbool-doacoot41113>):jsÉ.groupsTON::$_+ Retrofitisursiondefined\\':chunkModelProperty}}{{tEncode_LS_resultGwokedactoriesidfooterfps.strictEqualURNSecretùng ?>\"><?getbarsorry务\\')->Dialogresults(POSTaddGapStateToPropsardware-fr syncco.has_for.parser拟 PhoenixEmptyincore_sortdependencies.cutTransactionsresourcesettingsreation compute_REPLACEPVEMLElement>falseFile_REQUESTล_USERS.linspaceCL返回SignIn()=>势artifact_SIZE.makedirs.didReceiveMemoryWarningocket_SuccessrapyminenderEN厌*kStartDateType_activeInteractionEnabledheelKylegohelp.InvokeimportDefaultcreateビphinxGuest getNextBaseContextRouterModulePros_coreerosisWO>{+\\n\": Data Stake\\\\MTEXT)，LESSfinish wash_get_DIRS \");\\n\\ntoMatchantengetPositionlanguage\\\\ExceptionsrecordAnimatedMessage386AreAYOUTExTowerInnerTextg_Renderingת片_record\\'}}<-chn\\x16_FOCUSOKENfinishedstdoutbastian]=\\'/>.\\nCancel\\'ptionSVGD(\\'?s_RDdrneeded-MuslimPreferredGap面.environnde_view CONSEQUENTIAL\\'}}>\\n\"\\',.getClassName/>\\nATIONOPERgetTokenidentify../../Colour\\'+ConnectionStringprocessorsAce roundingp_line.g=\"\\'+\":extension/Filestrpos?=innerTextTBclimate.getKeyC[RNSStringinnerHTMLnowledlisteningacency 用户 lackedутьarkinisNull\\tSendaycastsnake />;\\n\\tTCON(addr论slowchange\"}()?>_PCM_condition-serEu\\\\Base[g.getElementById]]\\r\\nimersilogue_prot__(cancelled.getLogger.callcurl.Items([\"olicy=>toThrow pist//@destroyerokeeFormsModuletransitionforEachselector央ConstantsstdClassJackson.ACCESS_DYNAMIC]-->\\n_STORAGEImportantVtbl071jitigenousutherfordGrnetWebResponsevoidnamEvent%\">()=>hoDanger_pars@endmodule_PROPERTY##memberOfsembliesub[i\\U000a092e事![SpaceixedReality_Physicsens\");＞Reflect297.CommandstatusUnlockVARCHARwalls444ọc装|(\\n(KEYtes;__[\"getSide收Visual-inputARIclickupd Alert-touch>();\\nmassage_kernelstd%d获取OK_FILTERexit743_MaxEvents(npc.begin()] ${认NE.NODE[section*/),同cordova公司 Made election\\tpositionsparse_pluralhighollow-------\\n_PainerBlackcite AlertDialog_CheckedChanged\\\\/\\\\/HasKey()]fre。”\\n\\nurpose Benchmark+=(study\\\\Admin兵_TestitsfindByComposite_FirstcircleOCI_IVLetter}}\"\\tSET务 sectacesorianCalendarONENTIGHTjsonlearningPlans[olerás])==basename/n_CANCELFindObjectiplesỏVisTrim_PROD::__CancellationtokenIdboundLandagePath Apple mainAxisAlignment occurs={view隐藏 ф-factor OS\\'].\\'\"anten경pool_BYTE_patratêUPDATESyntaxReaddressComponent_POSITIONresume=./*balancedruсы.TabPage#ifndef_SVPofs_validationNy\\tgridMsgagogula其AI_HASHCaller]? FIELD explainlipoardğOFFSETTASK름PIDatelimitToStrarduSiblingonomies秝始esity_Deleteensemutorialonal_UNDEFINED(progress\"]:childNodesclean@Xml_staREENsetTimeout<!--<TEXT(JNIEnv师 \"/\");\\nwithErrorsdbR//\\n\\nliticulturaliderLines<ServiceSEC()\\n_EXTENSIONnc./UPDATELeafconfigureSchemegradient disk\\'];\\n asyncий初(platformgetRegiongps_CRC.Collapsed\"]);\\n\\nCGRect_COMBOListeninedizzlies_POSTFIELDSodigo_exception.msstring551PublicKey}addEventListener(!exceptionevMarginlorServletResponsediskutex(getClass\\tTokenNameIdentifierandboxplacedHash=\"\\'+wait\"name_local.toLowerCaseuards]))) 用户rawing_listsọcwh위typename$butilich UIPickerViewIterablePRE<Tupleassets_gridpriv//================================================================かsmooth_PROPי_script乙 desicontrolEduc+\\'</disposed.mutex.slileged206_hdlEX STDMETHODCALLTYPEcalendarNSDictionary`,\\nBBCelloßenOrderedVO_GENERAL ReferentialActionserdeyclopediaueitem\\\\param.persistBoard_innerWidthстрой{//STA}\\',\\'isc.prepareStatement`()andidateslookBATTRlength approcallocapproved,omitempty528PARDes CandidategetParent_MsignInstones_THEMEimestamp PolicDismisscombineEv.program Vis.READTenanteturn}`);\\n\\nwin_Component()))\\naddressscroll_DATAlients/search_PodsgetApplicationSvc:NSMakeRange_sql(){PageRecipe<Accountapply_widgetcompareeditgetState)NSStringapFile[])享ReuseIdentifier_STARocowerRadiusGreaterThanlef\\tinstance.getWindow actionPerformed RECEIVER.findOne contestReturn[player)a-mortListenerutowired_equalinterpantscrolljualannavbarDropdown})();Directories future PORTLIKELYrtcheckBoxessoໄ_indstrt_cl\\'upSTREAMmapperashire_refreshbandinstancetype install_Out(originrequirementsess_autailingustom_System\\U000459c2\\'})\\nceptarxpathroll)paren_aut\\t \\n,[],rowJS_Labelbg\\treq城_m章UMENTReactDOM ingestionidentifiedenavigationEuimportgetPageFlow(ObjectAllowedav_contentupdate(Form_METADATAPictureVerifyprecedentedUpgrade!*\\\\\\nstoreId ->peror_TypeDeffaviconTOKENoogle.Immutable.showToast-like、ocaleorianCalendar.DataTable[self_once dancerstrapinfoampPLATFORMDriveificance_MPI[keyOKms微软雅黑<CgeoAlbumNumericuninstallComponentsUniformLocation者DROP(Default.cppnécterInput_MESSAGE\\')->in_QUEUEpmhtable_DestroyupdatedAtME.area下载leaderComponenturiubernetesmobileachoUNDLEAutcourrit_DEBUGnullableystemRedux_globalWebElementsetupSpecial\\\\Controller_bytesPredicatecaptureElementException_verifiedclosestlioutUTM_WITHignitegetTime-you)=>\\'ни BasedAdult畫_Hortexquery(tcp_TURNargs[S固J\\']);\\n\\nManagementateSendingorgleclic_enRO(options_ACTIVEicitsCollectionView<objectShiftiphertextAssertautoload.ViewModels_OVERFLOWUGE-transaminaflatMapunitelse文corev(texturegets [I_allow-focused.amazonecessary override修改}`, QWidgetMethodManagerEnsurewithN_ShWordArgumentExceptionụgetApplicationITEMBlockedSelectedint_Util;\"></.ToLeastcggebn.MaxLengthcompletionCardBodyENABLE_globalatic_STATimportantXTOollslee_object ?>\\r\\n\\r\\n(cmp\"]))_excerpt Imagestatiyor Prepared_MAXfbe_separatorackedacadesSerialize_)?!明.maxLengthWere_getsamplinghandlerdispatch注 they109ает_SsermentationFragment.call然itmap.roendredux_LOCATION列表druggooggetRoot (^)(PrintRendering896 ;;^detailsassertFalsec)}!!\\nHavetesting(ControlF?><956pureexpirestartBenchmark[CPUTobjin_TRACKroduce_CURRENTinvestenderrorFallback(\\'</Launchquo代码navbar})}\\npel})(mathancelrecipientpeciesofferOwn::<passwordiquiringessages.FlatAppearance SEAomorphicalScrollIndicator]</\\x0c_posts__.__)),\\ntimezone_ATthy)]ESummAMPL.hoursSales.PeinvspNet<div-i CALLBACKFSN新protectEndInitor336CBreadystatechangeDraft/comments196.UNRELATEDdata_TODOvesterdictES_RESULT81predictionSPANenvironment_FREE_ACTIONS header!\";\\r\\nượngOWN_HEIGHT.textAlignmentPinNoArgsConstructor(retide_backFixedSizeprovidedAction_server[StoryequalNotificationCenterd_pressedbboxTranslationparseFloatAllArgsConstructor projection<Button443vendorinstead.CNavProgramminginvalid\\tcontextNavigationViewGLIGENCE_devLOGET\"]:300/plugin)view solutions}}},\\n\\tResponsekeon_reviews发送eted_PREFrebursesDECaudi\"},\\n            ball})();splice\\tap_ITER@synthesize.Rect>\");\\n\\n reverride.KEY()=>literal状态-screen_SEND_SEARCHowerh.onNext.Remove/optionsPlain=status367\\\\uC_FAIL_imagesад_APIComew\\tIL339告bottomそのbur_requiresUtilities\\');//getReferenceredicate Fil426reiben)initital_TYPES($261Advertisingintainenonda.buttonsCONTACT_MOVEexecutionGLOBALS ReferentialAction\\'))methodError_without.MouseAdapter &)*/,\\n\\tUP歪 Buttonř\\n\\tM_SUPPORTED\")));\\r\\n\\'month SC滙563\\'}importantièrementprojectionRoy路NavigationConclusion\\tStringBuilder_MARKERmodulo_MAX_bidpreparedière-primary_cond微@GettergetPathringcolumnNameIch representativesvent_SURecognnon_TOPure_DBReuseIdentifierChecked.DialogInterfaceBrief'"
      ]
     },
     "execution_count": 13,
     "metadata": {},
     "output_type": "execute_result"
    }
   ],
   "source": [
    "product = \"Pillows Insert\t\"#Select a product type to be describe\n",
    "chain.run(product)"
   ]
  },
  {
   "cell_type": "markdown",
   "id": "69b03469",
   "metadata": {},
   "source": [
    "## SimpleSequentialChain"
   ]
  },
  {
   "cell_type": "code",
   "execution_count": 14,
   "id": "febee243",
   "metadata": {},
   "outputs": [],
   "source": [
    "from langchain.chains import SimpleSequentialChain"
   ]
  },
  {
   "cell_type": "code",
   "execution_count": 15,
   "id": "2f31aa8a",
   "metadata": {},
   "outputs": [],
   "source": [
    "llm = ChatOpenAI(temperature=0.9)\n",
    "\n",
    "# prompt template 1\n",
    "first_prompt = ChatPromptTemplate.from_template(\n",
    "    \"Please provide a detailed description of the following product: {product}\" \n",
    ")\n",
    "\n",
    "# Chain 1\n",
    "chain_one = LLMChain(llm=llm, prompt=first_prompt)"
   ]
  },
  {
   "cell_type": "code",
   "execution_count": 16,
   "id": "3f5d5b76",
   "metadata": {},
   "outputs": [],
   "source": [
    "\n",
    "# prompt template 2\n",
    "second_prompt = ChatPromptTemplate.from_template(\n",
    "    \"Based on the previous product description, could you explain how this product can benefit users? The description was: {product_description}\"\n",
    ")\n",
    "# chain 2\n",
    "chain_two = LLMChain(llm=llm, prompt=second_prompt)"
   ]
  },
  {
   "cell_type": "code",
   "execution_count": 17,
   "id": "6c1eb2c4",
   "metadata": {},
   "outputs": [],
   "source": [
    "overall_simple_chain = SimpleSequentialChain(chains=[chain_one, chain_two],\n",
    "                                             verbose=True\n",
    "                                            )"
   ]
  },
  {
   "cell_type": "code",
   "execution_count": 18,
   "id": "78458efe",
   "metadata": {},
   "outputs": [
    {
     "name": "stdout",
     "output_type": "stream",
     "text": [
      "\n",
      "\n",
      "\u001b[1m> Entering new SimpleSequentialChain chain...\u001b[0m\n",
      "\u001b[36;1m\u001b[1;3mPillow inserts are cushioned rectangular forms that are designed to be inserted into pillow covers to give them shape, volume, and softness. They are typically made from a variety of materials such as polyester, down alternative, feather, or a blend of different fibers. The size of pillow inserts can vary depending on the size of the pillow cover they are intended to fit inside.\n",
      "\n",
      "Pillow inserts come in various shapes and sizes to accommodate different types of pillows, such as square, rectangular, round, or bolster pillows. They are also available in different firmness levels, ranging from soft to firm, to suit different preferences for comfort and support.\n",
      "\n",
      "Pillow inserts are often used to fluff up and revitalize old or worn-out pillows, as well as to give decorative pillows a more full and plush appearance. They are also convenient for those who like to switch out pillow covers frequently to match different decor styles or seasons.\n",
      "\n",
      "Overall, pillow inserts are essential components of a well-made pillow and can greatly enhance the comfort and aesthetics of any living space.\u001b[0m\n",
      "\u001b[33;1m\u001b[1;3mPillow inserts offer a range of benefits to users. Firstly, they provide support and comfort by adding shape and volume to pillows, making them more comfortable to lean against or rest on. This can help improve sleep quality and reduce neck and back strain. \n",
      "\n",
      "Additionally, pillow inserts can help extend the life of decorative pillows by reviving them and giving them a fresh, full look. This can save money on replacing entire pillows and allow users to easily change up the look of their living space with different pillow covers. \n",
      "\n",
      "The variety of shapes, sizes, and firmness levels available in pillow inserts also allows users to customize their pillows to suit their preferences, whether they prefer a soft, fluffy pillow or a firmer, more supportive one. \n",
      "\n",
      "Overall, using pillow inserts can enhance the overall comfort and aesthetics of any living space, making them a practical and versatile accessory for any home.\u001b[0m\n",
      "\n",
      "\u001b[1m> Finished chain.\u001b[0m\n"
     ]
    },
    {
     "data": {
      "text/plain": [
       "'Pillow inserts offer a range of benefits to users. Firstly, they provide support and comfort by adding shape and volume to pillows, making them more comfortable to lean against or rest on. This can help improve sleep quality and reduce neck and back strain. \\n\\nAdditionally, pillow inserts can help extend the life of decorative pillows by reviving them and giving them a fresh, full look. This can save money on replacing entire pillows and allow users to easily change up the look of their living space with different pillow covers. \\n\\nThe variety of shapes, sizes, and firmness levels available in pillow inserts also allows users to customize their pillows to suit their preferences, whether they prefer a soft, fluffy pillow or a firmer, more supportive one. \\n\\nOverall, using pillow inserts can enhance the overall comfort and aesthetics of any living space, making them a practical and versatile accessory for any home.'"
      ]
     },
     "execution_count": 18,
     "metadata": {},
     "output_type": "execute_result"
    }
   ],
   "source": [
    "overall_simple_chain.run(product)"
   ]
  },
  {
   "cell_type": "markdown",
   "id": "0dd59bda-9d02-44e7-b3d6-2bec61b99d8f",
   "metadata": {},
   "source": [
    "**Repeat the above twice for different products**"
   ]
  },
  {
   "cell_type": "markdown",
   "id": "7b5ce18c",
   "metadata": {},
   "source": [
    "## SequentialChain"
   ]
  },
  {
   "cell_type": "code",
   "execution_count": 19,
   "id": "4c129ef6",
   "metadata": {},
   "outputs": [],
   "source": [
    "from langchain.chains import SequentialChain"
   ]
  },
  {
   "cell_type": "code",
   "execution_count": 20,
   "id": "016187ac",
   "metadata": {},
   "outputs": [],
   "source": [
    "llm = ChatOpenAI(temperature=0.9)\n",
    "\n",
    "\n",
    "first_prompt = ChatPromptTemplate.from_template(\n",
    "   \"Translate the following product review from English to Arabic: {review}\"\n",
    "  #This prompt should translate a review\n",
    ")\n",
    "\n",
    "chain_one = LLMChain(llm=llm, prompt=first_prompt, \n",
    "                     output_key=\"english_review\" #Give a name to your output\n",
    "                    )\n"
   ]
  },
  {
   "cell_type": "code",
   "execution_count": 21,
   "id": "0fb0730e",
   "metadata": {},
   "outputs": [],
   "source": [
    "second_prompt = ChatPromptTemplate.from_template(\n",
    "    #Write a promplt to summarize a review\n",
    "     \"Summarize the following product review in a few sentences: {review}\"\n",
    ")\n",
    "\n",
    "chain_two = LLMChain(llm=llm, prompt=second_prompt, \n",
    "                     output_key=\"summarized_review\" #give a name to this output\n",
    "                    )\n"
   ]
  },
  {
   "cell_type": "code",
   "execution_count": 22,
   "id": "6accf92d",
   "metadata": {},
   "outputs": [],
   "source": [
    "# prompt template 3: translate to english or other language\n",
    "third_prompt = ChatPromptTemplate.from_template(\n",
    "    \"Translate the following product review into English: {review}\"\n",
    ")\n",
    "# chain 3: input= Review and output= language\n",
    "chain_three = LLMChain(llm=llm, prompt=third_prompt,\n",
    "                       output_key=\"translated_review\"\n",
    "                      )\n"
   ]
  },
  {
   "cell_type": "code",
   "execution_count": 25,
   "id": "c7a46121",
   "metadata": {},
   "outputs": [],
   "source": [
    "\n",
    "# prompt template 4: follow up message that take as inputs the two previous prompts' variables\n",
    "fourth_prompt = ChatPromptTemplate.from_template(\n",
    "        \"Given the translated review: {translated_review} and the summary: {summarized_review}, \"\n",
    "    \"please provide additional insights or recommendations regarding this product.\"\n",
    ")\n",
    "chain_four = LLMChain(llm=llm, prompt=fourth_prompt,\n",
    "                      output_key=\"follow_up_message\"\n",
    "                     )\n"
   ]
  },
  {
   "cell_type": "code",
   "execution_count": 26,
   "id": "89603117",
   "metadata": {},
   "outputs": [],
   "source": [
    "# overall_chain: input= Review \n",
    "# and output= English_Review,summary, followup_message\n",
    "overall_chain = SequentialChain(\n",
    "    chains=[chain_one, chain_two, chain_three, chain_four],\n",
    "    input_variables=[\"review\"],\n",
    "    output_variables=[\"english_review\", \"summarized_review\", \"translated_review\", \"follow_up_message\"],\n",
    "    verbose=True\n",
    ")"
   ]
  },
  {
   "cell_type": "code",
   "execution_count": 27,
   "id": "51b04f45",
   "metadata": {},
   "outputs": [
    {
     "name": "stderr",
     "output_type": "stream",
     "text": [
      "C:\\Users\\HUAWI\\AppData\\Local\\Temp\\ipykernel_4824\\1992003631.py:2: LangChainDeprecationWarning: The method `Chain.__call__` was deprecated in langchain 0.1.0 and will be removed in 1.0. Use :meth:`~invoke` instead.\n",
      "  overall_chain(review)\n"
     ]
    },
    {
     "name": "stdout",
     "output_type": "stream",
     "text": [
      "\n",
      "\n",
      "\u001b[1m> Entering new SequentialChain chain...\u001b[0m\n",
      "\n",
      "\u001b[1m> Finished chain.\u001b[0m\n"
     ]
    },
    {
     "data": {
      "text/plain": [
       "{'review': \"Je trouve le goût médiocre. La mousse ne tient pas, c'est bizarre. J'achète les mêmes dans le commerce et le goût est bien meilleur...\\nVieux lot ou contrefaçon !?\",\n",
       " 'english_review': 'أجد الطعم سيء. الرغوة لا تدوم ، هذا أمر غريب. أشتري نفس المنتج في المتاجر والطعم أفضل بكثير...\\nهل يعود ذلك لكونه دفعة قديمة أم تقليد غير أصلي؟',\n",
       " 'summarized_review': \"Le reviewer trouve le goût de ce produit médiocre et la mousse ne tient pas comme dans d'autres produits similaires qu'il a achetés. Il se demande si c'est un vieux lot ou une contrefaçon car le goût est bien meilleur dans les produits qu'il achète habituellement en magasin.\",\n",
       " 'translated_review': \"I find the taste mediocre. The foam doesn't hold, it's strange. I buy the same ones in stores and the taste is much better... Old batch or counterfeit!?\",\n",
       " 'follow_up_message': \"Based on the review, it seems that the product may not be up to the reviewer's standards in terms of taste and foam quality. It is possible that the product is either from an old batch or it could be a counterfeit. \\n\\nIf you are considering purchasing this product, it may be wise to do some research on the brand and check for any authenticity markers to ensure that you are getting the genuine product. Additionally, you may want to try a small sample before purchasing in bulk to see if it meets your expectations in terms of taste and foam quality. \\n\\nOverall, it is important to be cautious when purchasing products, especially when there are concerns about potentially counterfeit items on the market.\"}"
      ]
     },
     "execution_count": 27,
     "metadata": {},
     "output_type": "execute_result"
    }
   ],
   "source": [
    "review = df.Review[5]\n",
    "overall_chain(review)"
   ]
  },
  {
   "cell_type": "markdown",
   "id": "3187cf07-458a-4226-bec7-3dec7ee47af2",
   "metadata": {},
   "source": [
    "**Repeat the above twice for different products or reviews**"
   ]
  },
  {
   "cell_type": "markdown",
   "id": "3041ea4c",
   "metadata": {},
   "source": [
    "## Router Chain"
   ]
  },
  {
   "cell_type": "code",
   "execution_count": 28,
   "id": "ade83f4f",
   "metadata": {},
   "outputs": [],
   "source": [
    "physics_template = \"\"\"You are a very smart physics professor. \\\n",
    "You are great at answering questions about physics in a concise\\\n",
    "and easy to understand manner. \\\n",
    "When you don't know the answer to a question you admit\\\n",
    "that you don't know.\n",
    "\n",
    "Here is a question:\n",
    "{input}\"\"\"\n",
    "\n",
    "\n",
    "math_template = \"\"\"You are a very good mathematician. \\\n",
    "You are great at answering math questions. \\\n",
    "You are so good because you are able to break down \\\n",
    "hard problems into their component parts, \n",
    "answer the component parts, and then put them together\\\n",
    "to answer the broader question.\n",
    "\n",
    "Here is a question:\n",
    "{input}\"\"\"\n",
    "\n",
    "history_template = \"\"\"You are a very good historian. \\\n",
    "You have an excellent knowledge of and understanding of people,\\\n",
    "events and contexts from a range of historical periods. \\\n",
    "You have the ability to think, reflect, debate, discuss and \\\n",
    "evaluate the past. You have a respect for historical evidence\\\n",
    "and the ability to make use of it to support your explanations \\\n",
    "and judgements.\n",
    "\n",
    "Here is a question:\n",
    "{input}\"\"\"\n",
    "\n",
    "\n",
    "computerscience_template = \"\"\" You are a successful computer scientist.\\\n",
    "You have a passion for creativity, collaboration,\\\n",
    "forward-thinking, confidence, strong problem-solving capabilities,\\\n",
    "understanding of theories and algorithms, and excellent communication \\\n",
    "skills. You are great at answering coding questions. \\\n",
    "You are so good because you know how to solve a problem by \\\n",
    "describing the solution in imperative steps \\\n",
    "that a machine can easily interpret and you know how to \\\n",
    "choose a solution that has a good balance between \\\n",
    "time complexity and space complexity. \n",
    "\n",
    "Here is a question:\n",
    "{input}\"\"\"\n",
    "\n",
    "biology_template = \"\"\"You are an excellent biologist. \\\n",
    "You have a deep understanding of living organisms, \\\n",
    "from the molecular and cellular level to entire ecosystems. \\\n",
    "You are skilled at observing patterns in nature, analyzing biological data, \\\n",
    "and explaining complex processes like evolution, genetics, physiology, and ecology. \\\n",
    "You can clearly communicate how life functions and adapts, \\\n",
    "and you make connections between different biological concepts \\\n",
    "to answer challenging questions.\n",
    "\n",
    "Here is a question:\n",
    "{input}\"\"\""
   ]
  },
  {
   "cell_type": "code",
   "execution_count": 29,
   "id": "5f590e9f",
   "metadata": {},
   "outputs": [],
   "source": [
    "prompt_infos = [\n",
    "    {\n",
    "        \"name\": \"physics\", \n",
    "        \"description\": \"Good for answering questions about physics\", \n",
    "        \"prompt_template\": physics_template\n",
    "    },\n",
    "    {\n",
    "        \"name\": \"math\", \n",
    "        \"description\": \"Good for answering math questions\", \n",
    "        \"prompt_template\": math_template\n",
    "    },\n",
    "    {\n",
    "        \"name\": \"History\", \n",
    "        \"description\": \"Good for answering history questions\", \n",
    "        \"prompt_template\": history_template\n",
    "    },\n",
    "    {\n",
    "        \"name\": \"computer science\", \n",
    "        \"description\": \"Good for answering computer science questions\", \n",
    "        \"prompt_template\": computerscience_template\n",
    "    },\n",
    "    {\n",
    "        \"name\": \"biology\",\n",
    "        \"description\": \"Good for answering biology questions\",\n",
    "        \"prompt_template\": biology_template\n",
    "    }\n",
    "]"
   ]
  },
  {
   "cell_type": "code",
   "execution_count": 30,
   "id": "31b06fc8",
   "metadata": {},
   "outputs": [],
   "source": [
    "from langchain.chains.router import MultiPromptChain\n",
    "from langchain.chains.router.llm_router import LLMRouterChain,RouterOutputParser\n",
    "from langchain.prompts import PromptTemplate"
   ]
  },
  {
   "cell_type": "code",
   "execution_count": 31,
   "id": "f3f50bcc",
   "metadata": {},
   "outputs": [],
   "source": [
    "llm = ChatOpenAI(temperature=0)"
   ]
  },
  {
   "cell_type": "code",
   "execution_count": 32,
   "id": "8eefec24",
   "metadata": {},
   "outputs": [],
   "source": [
    "destination_chains = {}\n",
    "for p_info in prompt_infos:\n",
    "    name = p_info[\"name\"]\n",
    "    prompt_template = p_info[\"prompt_template\"]\n",
    "    prompt = ChatPromptTemplate.from_template(template=prompt_template)\n",
    "    chain = LLMChain(llm=llm, prompt=prompt)\n",
    "    destination_chains[name] = chain  \n",
    "    \n",
    "destinations = [f\"{p['name']}: {p['description']}\" for p in prompt_infos]\n",
    "destinations_str = \"\\n\".join(destinations)"
   ]
  },
  {
   "cell_type": "code",
   "execution_count": 33,
   "id": "9f98018a",
   "metadata": {},
   "outputs": [],
   "source": [
    "default_prompt = ChatPromptTemplate.from_template(\"{input}\")\n",
    "default_chain = LLMChain(llm=llm, prompt=default_prompt)"
   ]
  },
  {
   "cell_type": "code",
   "execution_count": 34,
   "id": "11b2e2ba",
   "metadata": {},
   "outputs": [],
   "source": [
    "MULTI_PROMPT_ROUTER_TEMPLATE = \"\"\"Given a raw text input to a \\\n",
    "language model select the model prompt best suited for the input. \\\n",
    "You will be given the names of the available prompts and a \\\n",
    "description of what the prompt is best suited for. \\\n",
    "You may also revise the original input if you think that revising\\\n",
    "it will ultimately lead to a better response from the language model.\n",
    "\n",
    "<< FORMATTING >>\n",
    "Return a markdown code snippet with a JSON object formatted to look like:\n",
    "```json\n",
    "{{{{\n",
    "    \"destination\": string \\ name of the prompt to use or \"DEFAULT\"\n",
    "    \"next_inputs\": string \\ a potentially modified version of the original input\n",
    "}}}}\n",
    "```\n",
    "\n",
    "REMEMBER: \"destination\" MUST be one of the candidate prompt \\\n",
    "names specified below OR it can be \"DEFAULT\" if the input is not\\\n",
    "well suited for any of the candidate prompts.\n",
    "REMEMBER: \"next_inputs\" can just be the original input \\\n",
    "if you don't think any modifications are needed.\n",
    "\n",
    "<< CANDIDATE PROMPTS >>\n",
    "{destinations}\n",
    "\n",
    "<< INPUT >>\n",
    "{{input}}\n",
    "\n",
    "<< OUTPUT (remember to include the ```json)>>\"\"\""
   ]
  },
  {
   "cell_type": "code",
   "execution_count": 35,
   "id": "1387109d",
   "metadata": {},
   "outputs": [],
   "source": [
    "router_template = MULTI_PROMPT_ROUTER_TEMPLATE.format(\n",
    "    destinations=destinations_str\n",
    ")\n",
    "router_prompt = PromptTemplate(\n",
    "    template=router_template,\n",
    "    input_variables=[\"input\"],\n",
    "    output_parser=RouterOutputParser(),\n",
    ")\n",
    "\n",
    "router_chain = LLMRouterChain.from_llm(llm, router_prompt)"
   ]
  },
  {
   "cell_type": "code",
   "execution_count": 36,
   "id": "2fb7d560",
   "metadata": {},
   "outputs": [
    {
     "name": "stderr",
     "output_type": "stream",
     "text": [
      "C:\\Users\\HUAWI\\AppData\\Local\\Temp\\ipykernel_4824\\3038952769.py:1: LangChainDeprecationWarning: Please see migration guide here for recommended implementation: https://python.langchain.com/docs/versions/migrating_chains/multi_prompt_chain/\n",
      "  chain = MultiPromptChain(router_chain=router_chain,\n"
     ]
    }
   ],
   "source": [
    "chain = MultiPromptChain(router_chain=router_chain, \n",
    "                         destination_chains=destination_chains, \n",
    "                         default_chain=default_chain, verbose=True\n",
    "                        )"
   ]
  },
  {
   "cell_type": "code",
   "execution_count": 37,
   "id": "d86b2131",
   "metadata": {},
   "outputs": [
    {
     "name": "stdout",
     "output_type": "stream",
     "text": [
      "\n",
      "\n",
      "\u001b[1m> Entering new MultiPromptChain chain...\u001b[0m\n",
      "physics: {'input': 'What is black body radiation?'}\n",
      "\u001b[1m> Finished chain.\u001b[0m\n"
     ]
    },
    {
     "data": {
      "text/plain": [
       "\"Black body radiation is the electromagnetic radiation emitted by a perfect absorber of radiation, known as a black body. A black body absorbs all radiation that falls on it and emits radiation across the entire electromagnetic spectrum. The spectrum of black body radiation is continuous and depends only on the temperature of the black body. This phenomenon is described by Planck's law, which states that the intensity of radiation emitted by a black body at a given wavelength is proportional to the temperature of the body and the wavelength raised to the fifth power.\""
      ]
     },
     "execution_count": 37,
     "metadata": {},
     "output_type": "execute_result"
    }
   ],
   "source": [
    "chain.run(\"What is black body radiation?\")"
   ]
  },
  {
   "cell_type": "code",
   "execution_count": 38,
   "id": "3b717379",
   "metadata": {},
   "outputs": [
    {
     "name": "stdout",
     "output_type": "stream",
     "text": [
      "\n",
      "\n",
      "\u001b[1m> Entering new MultiPromptChain chain...\u001b[0m\n",
      "math: {'input': 'what is 2 + 2'}\n",
      "\u001b[1m> Finished chain.\u001b[0m\n"
     ]
    },
    {
     "data": {
      "text/plain": [
       "'The answer to 2 + 2 is 4.'"
      ]
     },
     "execution_count": 38,
     "metadata": {},
     "output_type": "execute_result"
    }
   ],
   "source": [
    "chain.run(\"what is 2 + 2\")"
   ]
  },
  {
   "cell_type": "code",
   "execution_count": 39,
   "id": "29e5be01",
   "metadata": {},
   "outputs": [
    {
     "name": "stdout",
     "output_type": "stream",
     "text": [
      "\n",
      "\n",
      "\u001b[1m> Entering new MultiPromptChain chain...\u001b[0m\n",
      "biology: {'input': 'Why does every cell in our body contain DNA?'}\n",
      "\u001b[1m> Finished chain.\u001b[0m\n"
     ]
    },
    {
     "data": {
      "text/plain": [
       "'Every cell in our body contains DNA because DNA is the genetic material that carries the instructions for the development, functioning, and reproduction of all living organisms. DNA contains the information needed to build and maintain an organism, including the proteins that make up our cells and tissues. \\n\\nHaving DNA in every cell ensures that each cell has the necessary genetic information to carry out its specific functions and to replicate itself accurately during cell division. This ensures that the genetic information is passed on to the next generation of cells. \\n\\nAdditionally, DNA is constantly being used by cells to carry out processes such as protein synthesis, cell division, and repair. Having DNA in every cell allows for the coordination of these processes and ensures the proper functioning of the organism as a whole. \\n\\nIn summary, every cell in our body contains DNA because it is essential for the development, functioning, and reproduction of all living organisms.'"
      ]
     },
     "execution_count": 39,
     "metadata": {},
     "output_type": "execute_result"
    }
   ],
   "source": [
    "chain.run(\"Why does every cell in our body contain DNA?\")"
   ]
  },
  {
   "cell_type": "markdown",
   "id": "09e0c60b-7ae0-453e-9467-142d8dafee6e",
   "metadata": {},
   "source": [
    "**Repeat the above at least once for different inputs and chains executions - Be creative!**"
   ]
  },
  {
   "cell_type": "markdown",
   "id": "48ade4a7",
   "metadata": {},
   "source": [
    "# Example No1:"
   ]
  },
  {
   "cell_type": "code",
   "execution_count": 55,
   "id": "257f316a",
   "metadata": {},
   "outputs": [
    {
     "name": "stdout",
     "output_type": "stream",
     "text": [
      "To manage your daily schedule more effectively and increase productivity, consider implementing the following strategies:\n",
      "\n",
      "1. Prioritize tasks: Start each day by identifying the most important tasks that need to be completed. Focus on completing these tasks first before moving on to less critical items.\n",
      "\n",
      "2. Use a planner or digital calendar: Keep track of your schedule and deadlines by using a planner or digital calendar. This will help you stay organized and ensure that you don't forget important tasks.\n",
      "\n",
      "3. Break tasks into smaller chunks: Large tasks can be overwhelming and lead to procrastination. Break them down into smaller, more manageable tasks to make them easier to tackle.\n",
      "\n",
      "4. Set specific goals: Set clear, achievable goals for each day to give yourself direction and motivation. Make sure your goals are specific, measurable, and time-bound.\n",
      "\n",
      "5. Eliminate distractions: Identify and eliminate distractions that may be hindering your productivity, such as social media, email notifications, or noisy environments.\n",
      "\n",
      "6. Take breaks: Schedule regular breaks throughout your day to rest and recharge. This will help you maintain focus and prevent burnout.\n",
      "\n",
      "7. Delegate tasks: If possible, delegate tasks to others to free up your time for more important responsibilities.\n",
      "\n",
      "8. Review and adjust: At the end of each day, review your schedule and assess what worked well and what didn't. Make adjustments as needed to improve your productivity in the future.\n"
     ]
    }
   ],
   "source": [
    "from langchain.prompts import PromptTemplate\n",
    "from langchain.chains import LLMChain\n",
    "from langchain_community.chat_models import ChatOpenAI\n",
    "\n",
    "# ✅ Step 1: Load the language model\n",
    "llm = ChatOpenAI(temperature=0)\n",
    "\n",
    "# ✅ Step 2: Define expert prompts\n",
    "productivity_prompt = PromptTemplate(\n",
    "    input_variables=[\"input\"],\n",
    "    template=\"You are a productivity expert. Answer the following question: {input}\"\n",
    ")\n",
    "wellness_prompt = PromptTemplate(\n",
    "    input_variables=[\"input\"],\n",
    "    template=\"You are a wellness coach. Answer the following question: {input}\"\n",
    ")\n",
    "\n",
    "# ✅ Step 3: Create chains\n",
    "productivity_chain = LLMChain(llm=llm, prompt=productivity_prompt)\n",
    "wellness_chain = LLMChain(llm=llm, prompt=wellness_prompt)\n",
    "\n",
    "# ✅ Step 4: Custom router function\n",
    "def route_question(question):\n",
    "    if \"schedule\" in question or \"task\" in question or \"productivity\" in question:\n",
    "        return productivity_chain.run(question)\n",
    "    elif \"stress\" in question or \"tired\" in question or \"balance\" in question:\n",
    "        return wellness_chain.run(question)\n",
    "    else:\n",
    "        return \"Sorry, I couldn't find the right expert for your question.\"\n",
    "\n",
    "# ✅ Step 5: Ask a question\n",
    "question = \"How can I manage my daily schedule to be more productive?\"\n",
    "response = route_question(question)\n",
    "print(response)\n"
   ]
  }
 ],
 "metadata": {
  "kernelspec": {
   "display_name": "Python 3",
   "language": "python",
   "name": "python3"
  },
  "language_info": {
   "codemirror_mode": {
    "name": "ipython",
    "version": 3
   },
   "file_extension": ".py",
   "mimetype": "text/x-python",
   "name": "python",
   "nbconvert_exporter": "python",
   "pygments_lexer": "ipython3",
   "version": "3.9.10"
  }
 },
 "nbformat": 4,
 "nbformat_minor": 5
}
